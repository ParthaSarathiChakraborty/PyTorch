{
  "nbformat": 4,
  "nbformat_minor": 0,
  "metadata": {
    "colab": {
      "provenance": [],
      "cell_execution_strategy": "setup",
      "authorship_tag": "ABX9TyPCMdIGW2OSqpPqFA7WBuZ5",
      "include_colab_link": true
    },
    "kernelspec": {
      "name": "python3",
      "display_name": "Python 3"
    },
    "language_info": {
      "name": "python"
    }
  },
  "cells": [
    {
      "cell_type": "markdown",
      "metadata": {
        "id": "view-in-github",
        "colab_type": "text"
      },
      "source": [
        "<a href=\"https://colab.research.google.com/github/ParthaSarathiChakraborty/PyTorch/blob/main/PyTorch_Fundamentals.ipynb\" target=\"_parent\"><img src=\"https://colab.research.google.com/assets/colab-badge.svg\" alt=\"Open In Colab\"/></a>"
      ]
    },
    {
      "cell_type": "code",
      "source": [
        "import torch\n",
        "import pandas as pd\n",
        "import numpy as np\n",
        "print(torch.__version__)"
      ],
      "metadata": {
        "id": "HXecaqEdXw83"
      },
      "execution_count": null,
      "outputs": []
    },
    {
      "cell_type": "code",
      "source": [
        "# For new code cell click - CMD + M B\n",
        "# For new text cell click - CMD + M M"
      ],
      "metadata": {
        "id": "lSQ2lS95St1z"
      },
      "execution_count": null,
      "outputs": []
    },
    {
      "cell_type": "markdown",
      "source": [
        "# Tensor introduction\n",
        "\n",
        "## Creating a tensor\n",
        "\n",
        "Link: https://pytorch.org/docs/stable/torch.html#tensors\n",
        "\n"
      ],
      "metadata": {
        "id": "-ynsdfVaZfTb"
      }
    },
    {
      "cell_type": "code",
      "source": [
        "# Scalar\n",
        "# tensor type.\n",
        "scalar = torch.tensor(7)\n",
        "scalar"
      ],
      "metadata": {
        "id": "NrqWQGn9Uipk"
      },
      "execution_count": null,
      "outputs": []
    },
    {
      "cell_type": "code",
      "source": [
        "# gives the dimension\n",
        "scalar.ndim"
      ],
      "metadata": {
        "id": "DU9d9kYnV6jt"
      },
      "execution_count": null,
      "outputs": []
    },
    {
      "cell_type": "code",
      "source": [
        "# get tensor back as python int\n",
        "\n",
        "scalar.item()"
      ],
      "metadata": {
        "id": "J1m4DtuUWgPf"
      },
      "execution_count": null,
      "outputs": []
    },
    {
      "cell_type": "code",
      "source": [
        "# vector\n",
        "\n",
        "vector = torch.tensor([7,7])\n",
        "vector"
      ],
      "metadata": {
        "id": "Gvheq7oiW1r_"
      },
      "execution_count": null,
      "outputs": []
    },
    {
      "cell_type": "code",
      "source": [
        "# get the vector dimiension using \"ndim\".\n",
        "vector.ndim"
      ],
      "metadata": {
        "id": "YCe0ZKNYXT1q"
      },
      "execution_count": null,
      "outputs": []
    },
    {
      "cell_type": "code",
      "source": [
        "# get the shape\n",
        "vector.shape"
      ],
      "metadata": {
        "id": "EcKMB_5PX8tj"
      },
      "execution_count": null,
      "outputs": []
    },
    {
      "cell_type": "code",
      "source": [
        "# Matrix\n",
        "Matrix = torch.tensor([[1,2],[3,4]])\n",
        "Matrix"
      ],
      "metadata": {
        "id": "B-WU72WzYDCB"
      },
      "execution_count": null,
      "outputs": []
    },
    {
      "cell_type": "code",
      "source": [
        "# Tensor\n",
        "\n",
        "Tensor = torch.tensor([[[1,2,3],[4,5,6],[7,8,9]]])\n",
        "Tensor"
      ],
      "metadata": {
        "id": "fJVILEVuYXpw"
      },
      "execution_count": null,
      "outputs": []
    },
    {
      "cell_type": "code",
      "source": [
        "Tensor.ndim"
      ],
      "metadata": {
        "id": "lGw6x-x9Z8Nt"
      },
      "execution_count": null,
      "outputs": []
    },
    {
      "cell_type": "code",
      "source": [
        "Tensor.shape"
      ],
      "metadata": {
        "id": "LisescNVZ-1q"
      },
      "execution_count": null,
      "outputs": []
    },
    {
      "cell_type": "markdown",
      "source": [
        "## Random tensors\n",
        "\n"
      ],
      "metadata": {
        "id": "fs-nbpS9aBLF"
      }
    },
    {
      "cell_type": "code",
      "source": [
        "# Create a random tensor of size (3, 4)\n",
        "\n",
        "random_tensor = torch.rand(3,4)\n",
        "random_tensor"
      ],
      "metadata": {
        "id": "_OWDepwwbBo7"
      },
      "execution_count": null,
      "outputs": []
    },
    {
      "cell_type": "markdown",
      "source": [
        "## Zeros and ones"
      ],
      "metadata": {
        "id": "Fdity8nZc6mb"
      }
    },
    {
      "cell_type": "code",
      "source": [
        "# Create a tensor of all zeros\n",
        "\n",
        "zero = torch.zeros(size=(4,4))\n",
        "zero"
      ],
      "metadata": {
        "id": "yxqMwRRTdE0V"
      },
      "execution_count": null,
      "outputs": []
    },
    {
      "cell_type": "code",
      "source": [
        "# Create a tensor of all ones\n",
        "\n",
        "one = torch.ones(size=(4,4))\n",
        "one"
      ],
      "metadata": {
        "id": "Oe8aMTIcdafD"
      },
      "execution_count": null,
      "outputs": []
    },
    {
      "cell_type": "markdown",
      "source": [
        "## Creating a range of tensor and tensor-like\n"
      ],
      "metadata": {
        "id": "PCBl1ofdecK_"
      }
    },
    {
      "cell_type": "code",
      "source": [
        "# using torch.arange\n",
        "\n",
        "rng = torch.arange(0,10)\n",
        "rng"
      ],
      "metadata": {
        "id": "2jgIol-zej1F"
      },
      "execution_count": null,
      "outputs": []
    },
    {
      "cell_type": "code",
      "source": [
        "# creating tensor like\n",
        "\n",
        "# Use when we want to replicate a particular dimension without explicitly defining the shape.\n",
        "\n",
        "ten_zero = torch.zeros_like(input=rng)\n",
        "ten_zero"
      ],
      "metadata": {
        "id": "rVHVOZzgeqS7"
      },
      "execution_count": null,
      "outputs": []
    },
    {
      "cell_type": "markdown",
      "source": [
        "##Tensor datatypes\n",
        "\n",
        "**NOTE**\n",
        "\n",
        "Tensor datatype 3 error:\n",
        "\n",
        "1. Tensor not in the right datatype.\n",
        "2. Tensor not in the right shape.\n",
        "3. Tensor not on the right device."
      ],
      "metadata": {
        "id": "aAbFMDpJgLcF"
      }
    },
    {
      "cell_type": "code",
      "source": [
        "# Float 32 tensor\n",
        "\n",
        "float_32_tensor = torch.tensor([3.0, 6.0, 9.0],\n",
        "                               dtype=None,  # datatype\n",
        "                               device=None, # GPU, CPU, TPU\n",
        "                               requires_grad=False) # Track the gradient if 'True' else not.\n",
        "float_32_tensor"
      ],
      "metadata": {
        "id": "9hC767d0ZpbW"
      },
      "execution_count": null,
      "outputs": []
    },
    {
      "cell_type": "code",
      "source": [
        "float_32_tensor.dtype"
      ],
      "metadata": {
        "id": "77Rl1l94aAed"
      },
      "execution_count": null,
      "outputs": []
    },
    {
      "cell_type": "markdown",
      "source": [
        "## Getting information from a tensor.\n",
        "\n",
        "1. to get the datatype `tensor.dtype`\n",
        "2. to get the shape `tensor.shape`\n",
        "3. to get the device `tensor.device`"
      ],
      "metadata": {
        "id": "vrLm3Haamy4v"
      }
    },
    {
      "cell_type": "code",
      "source": [
        "# Create a tensor of 4 X 4\n",
        "\n",
        "some_tensor = torch.rand(4,4)\n",
        "some_tensor"
      ],
      "metadata": {
        "id": "11DhPC83nNZF"
      },
      "execution_count": null,
      "outputs": []
    },
    {
      "cell_type": "code",
      "source": [
        "# Find out the details about 'some_tensor'\n",
        "\n",
        "print(some_tensor)\n",
        "print(f\"Datatype of tensor: {some_tensor.dtype}\")\n",
        "print(f\"Shape of tensor: {some_tensor.shape}\")\n",
        "print(f\"Device of tensor: {some_tensor.device}\")"
      ],
      "metadata": {
        "id": "SoOkHQ6Gt69r"
      },
      "execution_count": null,
      "outputs": []
    },
    {
      "cell_type": "markdown",
      "source": [
        "## Manipulating tensors - tensor operations\n",
        "\n",
        "1. Addition\n",
        "2. Substraction\n",
        "3. Multiplication (element-wise)\n",
        "4. Division\n",
        "5. Matrix multiplication\n",
        "\n",
        "The main two rules for matrix multiplication to remember are:\n",
        "\n",
        "The inner dimensions must match:\n",
        "\n",
        "`(3, 2) @ (3, 2)` won't work since inner dimensions don't match (2 and 3)\n",
        "\n",
        "`(2, 3) @ (3, 2)` will work (3, 3)\n",
        "\n",
        "`(3, 2) @ (2, 3)` will work (2, 2)\n",
        "\n",
        "The resulting matrix has the shape of the outer dimensions:\n",
        "\n",
        "`(2, 3) @ (3, 2) -> (2, 2)` (2)\n",
        "\n",
        "`(3, 2) @ (2, 3) -> (3, 3)` (3)\n",
        "\n",
        "Note: \"@\" in Python is the symbol for matrix multiplication.\n",
        "\n",
        "Resource: You can see all of the rules for matrix multiplication using torch.matmul() in the PyTorch documentation.\n",
        "\n",
        "https://pytorch.org/docs/stable/generated/torch.matmul.html\n",
        "\n"
      ],
      "metadata": {
        "id": "oRZrE-U-vJV1"
      }
    },
    {
      "cell_type": "code",
      "source": [
        "# Create a tensor and 'add'.\n",
        "\n",
        "tensor = torch.tensor([1, 2, 3])\n",
        "# tensor + 10\n",
        "tensor"
      ],
      "metadata": {
        "id": "2K2mldmUvxI-"
      },
      "execution_count": null,
      "outputs": []
    },
    {
      "cell_type": "code",
      "source": [
        "# Multiplication\n",
        "\n",
        "# tensor = tensor * 10\n",
        "# tensor"
      ],
      "metadata": {
        "id": "DLOdG9ECwEsF"
      },
      "execution_count": null,
      "outputs": []
    },
    {
      "cell_type": "code",
      "source": [
        "# Matrix multiplication(most common) also known as the dot product.\n",
        "\n",
        "%%time\n",
        "torch.matmul(tensor,tensor)"
      ],
      "metadata": {
        "id": "oVNoXvOxH3CF"
      },
      "execution_count": null,
      "outputs": []
    },
    {
      "cell_type": "markdown",
      "source": [
        "##One of the most common errors in deep learning (shape errors)\n",
        "\n",
        "We can make matrix multiplication work between tensor_A and tensor_B by making their inner dimensions match.\n",
        "\n",
        "One of the ways to do this is with a **transpose** (switch the dimensions of a given tensor).\n",
        "\n",
        "You can perform transposes in PyTorch using either:\n",
        "\n",
        "torch.transpose(input, dim0, dim1) - where input is the desired tensor to transpose and dim0 and dim1 are the dimensions to be swapped.\n",
        "\n",
        "**tensor.T - where tensor is the desired tensor to transpose.**"
      ],
      "metadata": {
        "id": "KviEa1i5Sky6"
      }
    },
    {
      "cell_type": "code",
      "source": [
        "# Shapes need to be in the right way\n",
        "tensor_A = torch.tensor([[1, 2],\n",
        "                         [3, 4],\n",
        "                         [5, 6]])\n",
        "\n",
        "tensor_B = torch.tensor([[7, 10],\n",
        "                         [8, 11],\n",
        "                         [9, 12]])"
      ],
      "metadata": {
        "id": "7O6OPIVqe8yB"
      },
      "execution_count": null,
      "outputs": []
    },
    {
      "cell_type": "code",
      "source": [
        "# View tensor_A and tensor_B\n",
        "print(tensor_A)\n",
        "print(tensor_B)\n",
        "\n",
        "# View tensor_A and tensor_B.T\n",
        "print(tensor_A)\n",
        "print(tensor_B.T)"
      ],
      "metadata": {
        "id": "yJlverjHfBM7"
      },
      "execution_count": null,
      "outputs": []
    },
    {
      "cell_type": "code",
      "source": [
        "print(f\"Original shapes: tensor_A = {tensor_A.shape}, tensor_B = {tensor_B.shape}\\n\")\n",
        "print(f\"New shapes: tensor_A = {tensor_A.shape} (same as above), tensor_B.T = {tensor_B.T.shape}\\n\")\n",
        "print(f\"Multiplying: {tensor_A.shape} * {tensor_B.T.shape} <- inner dimensions match\\n\")\n",
        "print(\"Output:\\n\")\n",
        "output = torch.mm(tensor_A, tensor_B.T)\n",
        "print(output)\n",
        "print(f\"\\nOutput shape: {output.shape}\")"
      ],
      "metadata": {
        "id": "rBg0GKhUgfv7"
      },
      "execution_count": null,
      "outputs": []
    },
    {
      "cell_type": "markdown",
      "source": [
        "##Tensor aggregation: min, max, mean, sum etc."
      ],
      "metadata": {
        "id": "lQ3MwXQBhV2a"
      }
    },
    {
      "cell_type": "code",
      "source": [
        "# Create a tensor to find - min, max, mean and sum\n",
        "\n",
        "sample_tensor = torch.arange(0,101,5)\n",
        "sample_tensor"
      ],
      "metadata": {
        "colab": {
          "base_uri": "https://localhost:8080/"
        },
        "id": "nUl-m5K5hgjx",
        "outputId": "348bd2c6-fe25-4f4d-fd8d-17d8584550da"
      },
      "execution_count": null,
      "outputs": [
        {
          "output_type": "execute_result",
          "data": {
            "text/plain": [
              "tensor([  0,   5,  10,  15,  20,  25,  30,  35,  40,  45,  50,  55,  60,  65,\n",
              "         70,  75,  80,  85,  90,  95, 100])"
            ]
          },
          "metadata": {},
          "execution_count": 32
        }
      ]
    },
    {
      "cell_type": "code",
      "source": [
        "sample_tensor.min()"
      ],
      "metadata": {
        "colab": {
          "base_uri": "https://localhost:8080/"
        },
        "id": "GPe2Xu1XiJLO",
        "outputId": "359424a2-e517-4bf3-d8bb-9b0a8212825b"
      },
      "execution_count": null,
      "outputs": [
        {
          "output_type": "execute_result",
          "data": {
            "text/plain": [
              "tensor(0)"
            ]
          },
          "metadata": {},
          "execution_count": 42
        }
      ]
    },
    {
      "cell_type": "code",
      "source": [
        "sample_tensor.max()"
      ],
      "metadata": {
        "colab": {
          "base_uri": "https://localhost:8080/"
        },
        "id": "q3EiPqlJiQQA",
        "outputId": "5dac7c5b-8903-44c6-f900-fded2f4df7d7"
      },
      "execution_count": null,
      "outputs": [
        {
          "output_type": "execute_result",
          "data": {
            "text/plain": [
              "tensor(100)"
            ]
          },
          "metadata": {},
          "execution_count": 34
        }
      ]
    },
    {
      "cell_type": "code",
      "source": [
        "# The input tensor should be either 'float' or 'complex' datatype and not 'long'. Here I am converting the 'long' to 'float32' datatype.\n",
        "torch.mean(sample_tensor.type(torch.float32)), sample_tensor.type(torch.float32).mean()"
      ],
      "metadata": {
        "colab": {
          "base_uri": "https://localhost:8080/"
        },
        "id": "rLvAuYZCiTiF",
        "outputId": "73ea57bc-5dbc-4ff1-a35a-2cdabb5d15e8"
      },
      "execution_count": null,
      "outputs": [
        {
          "output_type": "execute_result",
          "data": {
            "text/plain": [
              "(tensor(50.), tensor(50.))"
            ]
          },
          "metadata": {},
          "execution_count": 39
        }
      ]
    },
    {
      "cell_type": "code",
      "source": [
        "torch.sum(sample_tensor)"
      ],
      "metadata": {
        "colab": {
          "base_uri": "https://localhost:8080/"
        },
        "id": "pQa7yX85iV1T",
        "outputId": "30148536-c2b2-44bc-e3f2-4875cab10b1e"
      },
      "execution_count": null,
      "outputs": [
        {
          "output_type": "execute_result",
          "data": {
            "text/plain": [
              "tensor(1050)"
            ]
          },
          "metadata": {},
          "execution_count": 40
        }
      ]
    },
    {
      "cell_type": "code",
      "source": [
        "# Position of minimum value\n",
        "torch.argmin(sample_tensor)"
      ],
      "metadata": {
        "id": "NbhNju98kMFg"
      },
      "execution_count": null,
      "outputs": []
    },
    {
      "cell_type": "code",
      "source": [
        "# Position of maximum value\n",
        "torch.argmax(sample_tensor)"
      ],
      "metadata": {
        "id": "4jKUwQ9ckhme"
      },
      "execution_count": null,
      "outputs": []
    },
    {
      "cell_type": "markdown",
      "source": [
        "## Reshaping - Stacking - Squeezing - Un-Squeezing tensors."
      ],
      "metadata": {
        "id": "4KRoKziWt1Fb"
      }
    },
    {
      "cell_type": "code",
      "source": [
        "# Create a tensor for the above ops.\n",
        "import torch\n",
        "x = torch.arange(1., 11.)\n",
        "x, x.shape"
      ],
      "metadata": {
        "id": "PN4DXro3uJTN"
      },
      "execution_count": null,
      "outputs": []
    },
    {
      "cell_type": "code",
      "source": [
        "# Reshape\n",
        "# x_reshaped = x.reshape(1,9)\n",
        "# x_reshaped, x_reshaped.shape"
      ],
      "metadata": {
        "id": "_td7MVegHY96"
      },
      "execution_count": null,
      "outputs": []
    },
    {
      "cell_type": "code",
      "source": [
        "x_reshaped = x.reshape(5,2)\n",
        "x_reshaped, x_reshaped.shape"
      ],
      "metadata": {
        "id": "13tkNvtNHn0u"
      },
      "execution_count": null,
      "outputs": []
    },
    {
      "cell_type": "code",
      "source": [
        "# Stacking the tensors.\n",
        "\n",
        "x_stacked = torch.stack([x,x,x,x], dim=1)\n",
        "x_stacked"
      ],
      "metadata": {
        "id": "l0jPflCvi4P4"
      },
      "execution_count": null,
      "outputs": []
    },
    {
      "cell_type": "code",
      "source": [
        "x_reshaped"
      ],
      "metadata": {
        "id": "aB7WLH77jrnf"
      },
      "execution_count": null,
      "outputs": []
    },
    {
      "cell_type": "code",
      "source": [
        "print(f\"Previous tensor: {x_reshaped}\")\n",
        "print(f\"Previous shape: {x_reshaped.shape}\")\n",
        "\n",
        "# Remove extra dimension from x_reshaped\n",
        "x_squeezed = x_reshaped.squeeze()\n",
        "print(f\"\\nNew tensor: {x_squeezed}\")\n",
        "print(f\"New shape: {x_squeezed.shape}\")\n"
      ],
      "metadata": {
        "id": "8pUp_ADdnovJ"
      },
      "execution_count": null,
      "outputs": []
    },
    {
      "cell_type": "code",
      "source": [
        "# Permute - Change the positions.\n",
        "# You can also rearrange the order of axes values with torch.permute(input, dims), where the input gets turned into a view with new dims.\n",
        "\n",
        "# Create tensor with specific shape\n",
        "x_original = torch.rand(size=(224, 224, 3))\n",
        "\n",
        "# Permute the original tensor to rearrange the axis order\n",
        "x_permuted = x_original.permute(2, 0, 1) # shifts axis 0->1, 1->2, 2->0\n",
        "\n",
        "print(f\"Previous shape: {x_original.shape}\")\n",
        "print(f\"New shape: {x_permuted.shape}\")"
      ],
      "metadata": {
        "id": "ObUOGGz-2s-Q"
      },
      "execution_count": null,
      "outputs": []
    },
    {
      "cell_type": "code",
      "source": [
        "# Indexing data.\n",
        "\n",
        "import torch\n",
        "x = torch.arange(1,10).reshape(3,3)\n",
        "x, x.shape"
      ],
      "metadata": {
        "id": "9lL2wUFKiWAl"
      },
      "execution_count": null,
      "outputs": []
    },
    {
      "cell_type": "code",
      "source": [
        "x[2][2]"
      ],
      "metadata": {
        "id": "SkMohZGBlpGg"
      },
      "execution_count": null,
      "outputs": []
    },
    {
      "cell_type": "code",
      "source": [
        "# Select all the values of the target dimension using ':'\n",
        "\n",
        "x[0,:]"
      ],
      "metadata": {
        "id": "MzeYABE_mpjd"
      },
      "execution_count": null,
      "outputs": []
    },
    {
      "cell_type": "markdown",
      "source": [
        "PyTorch tensors & NumPy\n",
        "NumPy is a popular scientific Python numerical computing library.\n",
        "\n",
        "And because of this, PyTorch has functionality to interact with it.\n",
        "\n",
        "* Data in NumPy, want in PyTorch tensor -> torch.from_numpy(ndarray)\n",
        "\n",
        "* PyTorch tensor -> NumPy -> torch.Tensor.numpy()"
      ],
      "metadata": {
        "id": "pdGkeKHWqA_e"
      }
    },
    {
      "cell_type": "code",
      "source": [
        "import torch\n",
        "import numpy as np\n",
        "\n",
        "array = np.arange(1.0, 8.0)\n",
        "# Numpy default data type is float64 and pytorch is float32.\n",
        "#Change the underlying using \".type('float64')\"\n",
        "tensor = torch.from_numpy(array)\n",
        "array, tensor"
      ],
      "metadata": {
        "id": "R2pTlSRInI8N"
      },
      "execution_count": null,
      "outputs": []
    },
    {
      "cell_type": "markdown",
      "source": [
        "## Reproducibility\n",
        "\n",
        "Use **Random Seed** to reproduce the random values again."
      ],
      "metadata": {
        "id": "aOV4JYwzqiRs"
      }
    },
    {
      "cell_type": "code",
      "source": [
        "import torch\n",
        "\n",
        "random_tensor_a = torch.rand(3,4)\n",
        "random_tensor_b = torch.rand(3,4)\n",
        "\n",
        "print(random_tensor_a)\n",
        "print(random_tensor_b)\n",
        "print(random_tensor_a == random_tensor_b)"
      ],
      "metadata": {
        "id": "3RL3dQo3uHfF"
      },
      "execution_count": null,
      "outputs": []
    }
  ]
}