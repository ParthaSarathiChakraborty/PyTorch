{
  "nbformat": 4,
  "nbformat_minor": 0,
  "metadata": {
    "colab": {
      "provenance": [],
      "cell_execution_strategy": "setup",
      "authorship_tag": "ABX9TyPCT7c2h968zn35l8JoRRjW"
    },
    "kernelspec": {
      "name": "python3",
      "display_name": "Python 3"
    },
    "language_info": {
      "name": "python"
    }
  },
  "cells": [
    {
      "cell_type": "code",
      "source": [
        "import torch\n",
        "import pandas as pd\n",
        "import numpy as np\n",
        "print(torch.__version__)"
      ],
      "metadata": {
        "id": "HXecaqEdXw83"
      },
      "execution_count": null,
      "outputs": []
    },
    {
      "cell_type": "markdown",
      "source": [
        "# Tensor introduction\n",
        "\n",
        "## Creating a tensor\n",
        "\n",
        "Link: https://pytorch.org/docs/stable/torch.html#tensors\n",
        "\n"
      ],
      "metadata": {
        "id": "-ynsdfVaZfTb"
      }
    },
    {
      "cell_type": "code",
      "source": [
        "# Scalar\n",
        "# tensor type.\n",
        "scalar = torch.tensor(7)\n",
        "scalar"
      ],
      "metadata": {
        "id": "NrqWQGn9Uipk"
      },
      "execution_count": null,
      "outputs": []
    },
    {
      "cell_type": "code",
      "source": [
        "# gives the dimension\n",
        "scalar.ndim"
      ],
      "metadata": {
        "id": "DU9d9kYnV6jt"
      },
      "execution_count": null,
      "outputs": []
    },
    {
      "cell_type": "code",
      "source": [
        "# get tensor back as python int\n",
        "\n",
        "scalar.item()"
      ],
      "metadata": {
        "id": "J1m4DtuUWgPf"
      },
      "execution_count": null,
      "outputs": []
    },
    {
      "cell_type": "code",
      "source": [
        "# vector\n",
        "\n",
        "vector = torch.tensor([7,7])\n",
        "vector"
      ],
      "metadata": {
        "id": "Gvheq7oiW1r_"
      },
      "execution_count": null,
      "outputs": []
    },
    {
      "cell_type": "code",
      "source": [
        "# get the vector dimiension using \"ndim\".\n",
        "vector.ndim"
      ],
      "metadata": {
        "id": "YCe0ZKNYXT1q"
      },
      "execution_count": null,
      "outputs": []
    },
    {
      "cell_type": "code",
      "source": [
        "# get the shape\n",
        "vector.shape"
      ],
      "metadata": {
        "id": "EcKMB_5PX8tj"
      },
      "execution_count": null,
      "outputs": []
    },
    {
      "cell_type": "code",
      "source": [
        "# Matrix\n",
        "Matrix = torch.tensor([[1,2],[3,4]])\n",
        "Matrix"
      ],
      "metadata": {
        "id": "B-WU72WzYDCB"
      },
      "execution_count": null,
      "outputs": []
    },
    {
      "cell_type": "code",
      "source": [
        "# Tensor\n",
        "\n",
        "Tensor = torch.tensor([[[1,2,3],[4,5,6],[7,8,9]]])\n",
        "Tensor"
      ],
      "metadata": {
        "id": "fJVILEVuYXpw"
      },
      "execution_count": null,
      "outputs": []
    },
    {
      "cell_type": "code",
      "source": [
        "Tensor.ndim"
      ],
      "metadata": {
        "id": "lGw6x-x9Z8Nt"
      },
      "execution_count": null,
      "outputs": []
    },
    {
      "cell_type": "code",
      "source": [
        "Tensor.shape"
      ],
      "metadata": {
        "id": "LisescNVZ-1q"
      },
      "execution_count": null,
      "outputs": []
    },
    {
      "cell_type": "markdown",
      "source": [
        "## Random tensors\n",
        "\n"
      ],
      "metadata": {
        "id": "fs-nbpS9aBLF"
      }
    },
    {
      "cell_type": "code",
      "source": [
        "# Create a random tensor of size (3, 4)\n",
        "\n",
        "random_tensor = torch.rand(3,4)\n",
        "random_tensor"
      ],
      "metadata": {
        "id": "_OWDepwwbBo7"
      },
      "execution_count": null,
      "outputs": []
    },
    {
      "cell_type": "markdown",
      "source": [
        "## Zeros and ones"
      ],
      "metadata": {
        "id": "Fdity8nZc6mb"
      }
    },
    {
      "cell_type": "code",
      "source": [
        "# Create a tensor of all zeros\n",
        "\n",
        "zero = torch.zeros(size=(4,4))\n",
        "zero"
      ],
      "metadata": {
        "id": "yxqMwRRTdE0V"
      },
      "execution_count": null,
      "outputs": []
    },
    {
      "cell_type": "code",
      "source": [
        "# Create a tensor of all ones\n",
        "\n",
        "one = torch.ones(size=(4,4))\n",
        "one"
      ],
      "metadata": {
        "id": "Oe8aMTIcdafD"
      },
      "execution_count": null,
      "outputs": []
    },
    {
      "cell_type": "markdown",
      "source": [
        "## Creating a range of tensor and tensor-like\n"
      ],
      "metadata": {
        "id": "PCBl1ofdecK_"
      }
    },
    {
      "cell_type": "code",
      "source": [
        "# using torch.arange\n",
        "\n",
        "rng = torch.arange(0,10)\n",
        "rng"
      ],
      "metadata": {
        "id": "2jgIol-zej1F"
      },
      "execution_count": null,
      "outputs": []
    },
    {
      "cell_type": "code",
      "source": [
        "# creating tensor like\n",
        "\n",
        "# Use when we want to replicate a particular dimension without explicitly defining the shape.\n",
        "\n",
        "ten_zero = torch.zeros_like(input=rng)\n",
        "ten_zero"
      ],
      "metadata": {
        "id": "rVHVOZzgeqS7"
      },
      "execution_count": null,
      "outputs": []
    },
    {
      "cell_type": "markdown",
      "source": [
        "##Tensor datatypes\n",
        "\n",
        "**NOTE**\n",
        "\n",
        "Tensor datatype 3 error:\n",
        "\n",
        "1. Tensor not in the right datatype.\n",
        "2. Tensor not in the right shape.\n",
        "3. Tensor not on the right device."
      ],
      "metadata": {
        "id": "aAbFMDpJgLcF"
      }
    },
    {
      "cell_type": "code",
      "source": [
        "# Float 32 tensor\n",
        "\n",
        "float_32_tensor = torch.tensor([3.0, 6.0, 9.0],\n",
        "                               dtype=None,  # datatype\n",
        "                               device=None, # GPU, CPU, TPU\n",
        "                               requires_grad=False) # Track the gradient if 'True' else not.\n",
        "float_32_tensor"
      ],
      "metadata": {
        "id": "9hC767d0ZpbW"
      },
      "execution_count": null,
      "outputs": []
    },
    {
      "cell_type": "code",
      "source": [
        "float_32_tensor.dtype"
      ],
      "metadata": {
        "id": "77Rl1l94aAed"
      },
      "execution_count": null,
      "outputs": []
    },
    {
      "cell_type": "markdown",
      "source": [
        "## Getting information from a tensor.\n",
        "\n",
        "1. to get the datatype `tensor.dtype`\n",
        "2. to get the shape `tensor.shape`\n",
        "3. to get the device `tensor.device`"
      ],
      "metadata": {
        "id": "vrLm3Haamy4v"
      }
    },
    {
      "cell_type": "code",
      "source": [
        "# Create a tensor of 4 X 4\n",
        "\n",
        "some_tensor = torch.rand(4,4)\n",
        "some_tensor"
      ],
      "metadata": {
        "id": "11DhPC83nNZF"
      },
      "execution_count": null,
      "outputs": []
    },
    {
      "cell_type": "code",
      "source": [
        "# Find out the details about 'some_tensor'\n",
        "\n",
        "print(some_tensor)\n",
        "print(f\"Datatype of tensor: {some_tensor.dtype}\")\n",
        "print(f\"Shape of tensor: {some_tensor.shape}\")\n",
        "print(f\"Device of tensor: {some_tensor.device}\")"
      ],
      "metadata": {
        "id": "SoOkHQ6Gt69r"
      },
      "execution_count": null,
      "outputs": []
    },
    {
      "cell_type": "markdown",
      "source": [
        "## Manipulating tensors - tensor operations\n",
        "\n",
        "1. Addition\n",
        "2. Substraction\n",
        "3. Multiplication (element-wise)\n",
        "4. Division\n",
        "5. Matrix multiplication\n"
      ],
      "metadata": {
        "id": "oRZrE-U-vJV1"
      }
    },
    {
      "cell_type": "code",
      "source": [
        "# Create a tensor and 'add'.\n",
        "\n",
        "tensor = torch.tensor([1, 2, 3])\n",
        "tensor + 10"
      ],
      "metadata": {
        "id": "2K2mldmUvxI-"
      },
      "execution_count": null,
      "outputs": []
    },
    {
      "cell_type": "code",
      "source": [
        "# Multiplication\n",
        "\n",
        "tensor = tensor * 10\n",
        "tensor"
      ],
      "metadata": {
        "id": "DLOdG9ECwEsF"
      },
      "execution_count": null,
      "outputs": []
    },
    {
      "cell_type": "code",
      "source": [],
      "metadata": {
        "id": "uQFknSypwWHH"
      },
      "execution_count": null,
      "outputs": []
    },
    {
      "cell_type": "code",
      "source": [],
      "metadata": {
        "id": "5goGT3U4wU9G"
      },
      "execution_count": null,
      "outputs": []
    }
  ]
}